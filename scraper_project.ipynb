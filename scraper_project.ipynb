{
 "cells": [
  {
   "cell_type": "code",
   "execution_count": 19,
   "metadata": {},
   "outputs": [],
   "source": [
    "import requests\n",
    "from bs4 import BeautifulSoup\n",
    "import pandas as pd\n",
    "import datetime\n",
    "import csv\n",
    "import time\n",
    "import os\n"
   ]
  },
  {
   "cell_type": "code",
   "execution_count": 31,
   "metadata": {},
   "outputs": [
    {
     "name": "stdout",
     "output_type": "stream",
     "text": [
      "                Title          Author  \\\n",
      "0  The Light We Carry  Michelle Obama   \n",
      "\n",
      "                                             Summary        Date  \n",
      "0  #1 NEW YORK TIMES AND USA TODAY BESTSELLER • I...  2024-05-07  \n"
     ]
    }
   ],
   "source": [
    "\n",
    "class AppleBooksScraper:\n",
    "\n",
    "    def __init__(self):\n",
    "        self.soup = None\n",
    "        \n",
    "\n",
    "    def open_apple_books_link(self):\n",
    "        \"\"\" \n",
    "        Cette fonction ouvrira le lien Apple Books fourni par l'API Books du New-York Times\n",
    "\n",
    "        \"\"\"\n",
    "\n",
    "        url = 'https://goto.applebooks.apple/9780593237465?at=10lIEQ'\n",
    "        headers = {'User-Agent': \"Mozilla/5.0 (Macintosh; Intel Mac OS X 10_15_7) AppleWebKit/605.1.15 (KHTML, like Gecko) Version/17.4.1 Safari/605.1.15\"}\n",
    "        page = requests.get(url, headers=headers)\n",
    "        self.soup = BeautifulSoup(page.content, 'html.parser')\n",
    "\n",
    "    def extract_book_informations(self):\n",
    "        \"\"\" \n",
    "        Cette fonction va extraire les données sur la page Apple Books qui aura été ouverte\n",
    "        \"\"\"\n",
    "        if self.soup:\n",
    "            # Extraire le nom de l'auteur\n",
    "            author_name_location = self.soup.find('div',class_=\"book-header__author\")\n",
    "            author_name = author_name_location.find('a').text.strip() if author_name_location else \"N/A\"\n",
    "\n",
    "            # Extraire le nom du livre\n",
    "            book_name_location = self.soup.find('h1', class_=\"product-header__title book-header__title\")\n",
    "            book_name = book_name_location.text.strip() if book_name_location else \"N/A\"\n",
    "\n",
    "            # Extraire le résumé\n",
    "            summary_location = self.soup.find('div', class_=\"we-truncate--multi-line\")\n",
    "            summary_text = summary_location.text.strip() if summary_location else \"N/A\"\n",
    "\n",
    "            return book_name, author_name, summary_text\n",
    "        return \"N/A\", \"N/A\", \"N/A\"  # Return a default tuple if soup is None\n",
    "\n",
    "    def book_informations_dataset(self, book_name, author_name, summary_text):\n",
    "        \"\"\" \n",
    "        Cette fonction va creer un fichier .csv et y stocker les données récoltées\n",
    "        args: book_name, author_name, summary_text\n",
    "\n",
    "        \"\"\"\n",
    "        today = datetime.date.today()\n",
    "        header = ['Title', 'Author', 'Summary', 'Date']\n",
    "        data = [book_name, author_name, summary_text, today]\n",
    "\n",
    "       # Ouvrir le fichier csv dans le répertoire actuel\n",
    "        current_dir = os.getcwd()\n",
    "        csv_file_path = os.path.join(current_dir, 'AppleBooksScraperDataset.csv')\n",
    "\n",
    "        # Ouvrir le fichier CSV en mode ajout ('a')\n",
    "        file = open(csv_file_path, 'a', newline='', encoding='UTF8')\n",
    "        try:\n",
    "            writer = csv.writer(file)\n",
    "            if os.path.getsize(csv_file_path) == 0:\n",
    "                writer.writerow(header)\n",
    "            writer.writerow(data)\n",
    "        finally:\n",
    "            file.close()\n",
    "\n",
    "# Executer la classe et afficher les résultats sur un dataframe \n",
    "scraper = AppleBooksScraper()\n",
    "scraper.open_apple_books_link()\n",
    "book_name, author_name, summary_text = scraper.extract_book_informations()\n",
    "\n",
    "# Ajuster plus tard\n",
    "time.sleep(1)  \n",
    "\n",
    "# Creation du dataframe avec pandas pour afficher les resulats\n",
    "data = {\n",
    "    'Title': [book_name],\n",
    "    'Author': [author_name],\n",
    "    'Summary': [summary_text],\n",
    "    'Date': [datetime.date.today()]\n",
    "}\n",
    "df = pd.DataFrame(data)\n",
    "print(df)\n"
   ]
  }
 ],
 "metadata": {
  "kernelspec": {
   "display_name": "Python 3 (ipykernel)",
   "language": "python",
   "name": "python3"
  },
  "language_info": {
   "codemirror_mode": {
    "name": "ipython",
    "version": 3
   },
   "file_extension": ".py",
   "mimetype": "text/x-python",
   "name": "python",
   "nbconvert_exporter": "python",
   "pygments_lexer": "ipython3",
   "version": "3.11.7"
  }
 },
 "nbformat": 4,
 "nbformat_minor": 2
}
