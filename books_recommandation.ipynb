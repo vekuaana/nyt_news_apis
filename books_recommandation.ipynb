{
 "cells": [
  {
   "cell_type": "markdown",
   "metadata": {},
   "source": [
    "## Book recommandation system"
   ]
  },
  {
   "cell_type": "code",
   "execution_count": 237,
   "metadata": {},
   "outputs": [
    {
     "name": "stderr",
     "output_type": "stream",
     "text": [
      "[nltk_data] Downloading package punkt to /Users/anavekua/nltk_data...\n",
      "[nltk_data]   Package punkt is already up-to-date!\n"
     ]
    }
   ],
   "source": [
    "import json \n",
    "import pandas as pd \n",
    "import pprint\n",
    "import re\n",
    "import multiprocessing as mp\n",
    "import numpy as np\n",
    "import pandas as pd\n",
    "import nltk\n",
    "nltk.download('stopwords', quiet=True)\n",
    "nltk.download('punkt')\n",
    "from nltk.tokenize import word_tokenize\n",
    "from sklearn.metrics.pairwise import cosine_similarity"
   ]
  },
  {
   "cell_type": "markdown",
   "metadata": {},
   "source": [
    "#### Data books"
   ]
  },
  {
   "cell_type": "code",
   "execution_count": 240,
   "metadata": {},
   "outputs": [],
   "source": [
    "# Load books data\n",
    "file_paths = \"data/bestsellers_with_abstract_and_genre_3350.json\"\n",
    "with open(file_paths, 'r') as file:\n",
    "        data = json.load(file)\n",
    "\n",
    "df = pd.DataFrame(data)"
   ]
  },
  {
   "cell_type": "code",
   "execution_count": 241,
   "metadata": {},
   "outputs": [
    {
     "name": "stdout",
     "output_type": "stream",
     "text": [
      "genre\n",
      "Arts & Entertainment             55\n",
      "Biographies & Memoirs          1237\n",
      "Business & Personal Finance     166\n",
      "Comics & Graphic Novels           1\n",
      "Computers & Internet              3\n",
      "Cookbooks, Food & Wine            4\n",
      "Fiction & Literature             32\n",
      "Health, Mind & Body             113\n",
      "History                         387\n",
      "Humor                           121\n",
      "January 30                        1\n",
      "Kids                              1\n",
      "Lifestyle & Home                 22\n",
      "Mysteries & Thrillers             1\n",
      "N/A                             203\n",
      "Nonfiction                      199\n",
      "Parenting                        22\n",
      "Politics & Current Events       432\n",
      "Professional & Technical         48\n",
      "Reference                         2\n",
      "Religion & Spirituality          76\n",
      "Romance                           3\n",
      "Sci-Fi & Fantasy                  1\n",
      "Science & Nature                119\n",
      "Sports & Outdoors                80\n",
      "Travel & Adventure               19\n",
      "Young Adult                       2\n",
      "Name: title, dtype: int64\n"
     ]
    }
   ],
   "source": [
    "# Books per category\n",
    "grouped_df = df.groupby('genre').count()\n",
    "print(grouped_df['title'])"
   ]
  },
  {
   "cell_type": "code",
   "execution_count": 292,
   "metadata": {},
   "outputs": [],
   "source": [
    "# Remove N/A category\n",
    "df = df[df['genre'] != 'N/A']\n",
    "\n",
    "# Select only books in 'Politics & Current Events'\n",
    "corpus_books = df[df['genre'] == 'Politics & Current Events']\n",
    "corpus_books = corpus_books.reset_index(drop=True)"
   ]
  },
  {
   "cell_type": "markdown",
   "metadata": {},
   "source": [
    "#### Data Articles\n"
   ]
  },
  {
   "cell_type": "code",
   "execution_count": 294,
   "metadata": {},
   "outputs": [],
   "source": [
    "# Load data articles archives\n",
    "file_paths = \"/Users/anavekua/Documents/DataScienTest/API_nyt_json/nytimes_archives_elections_articles.json\"\n",
    "\n",
    "with open(file_paths, 'r') as file:\n",
    "        data = json.load(file)\n",
    "\n",
    "articles = pd.DataFrame(data)"
   ]
  },
  {
   "cell_type": "code",
   "execution_count": 295,
   "metadata": {},
   "outputs": [
    {
     "name": "stdout",
     "output_type": "stream",
     "text": [
      "Headline: Republicans Champion ‘Voluntary Taxes’\n",
      "('Republicans will do anything to avoid raising taxes, and their latest bill '\n",
      " 'to encourage voluntary contributions is nothing more than a distraction, an '\n",
      " 'economist writes.')\n"
     ]
    }
   ],
   "source": [
    "#Load an article from archive\n",
    "a = 100000 # article number\n",
    "article = articles.iloc[a, :]\n",
    "print(\"Headline:\", article['headline_main'])\n",
    "pprint.pprint(article['abstract'])"
   ]
  },
  {
   "cell_type": "markdown",
   "metadata": {},
   "source": [
    "#### Data combination"
   ]
  },
  {
   "cell_type": "code",
   "execution_count": 297,
   "metadata": {},
   "outputs": [
    {
     "data": {
      "text/html": [
       "<div>\n",
       "<style scoped>\n",
       "    .dataframe tbody tr th:only-of-type {\n",
       "        vertical-align: middle;\n",
       "    }\n",
       "\n",
       "    .dataframe tbody tr th {\n",
       "        vertical-align: top;\n",
       "    }\n",
       "\n",
       "    .dataframe thead th {\n",
       "        text-align: right;\n",
       "    }\n",
       "</style>\n",
       "<table border=\"1\" class=\"dataframe\">\n",
       "  <thead>\n",
       "    <tr style=\"text-align: right;\">\n",
       "      <th></th>\n",
       "      <th>abstract</th>\n",
       "    </tr>\n",
       "  </thead>\n",
       "  <tbody>\n",
       "    <tr>\n",
       "      <th>430</th>\n",
       "      <td>NEW YORK TIMES BESTSELLER • From bestselling author and longtime New York Times columnist Frank Bruni comes a lucid, powerful examination of the ways in which grievance has come to define our current culture and politics, on both the right and left.The twists and turns of American politics are unpredictable, but the tone is a troubling given. It’s one of grievance. More and more Americans are convinced that they’re losing because somebody else is winning. More and more tally their slights, measure their misfortune, and assign particular people responsibility for it. The blame game has become the country’s most popular sport and victimhood its most fashionable garb.Grievance needn’t be bad. It has done enormous good. The United States is a nation born of grievance, and across the nearly two hundred and fifty years of our existence as a country, grievance has been the engine of morally urgent change. But what happens when all sorts of grievances—the greater ones, the lesser ones, the authentic, the invented—are jumbled together? When people take their grievances to lengths that they didn’t before? A violent mob storms the US Capitol, rejecting the results of a presidential election. Conspiracy theories flourish. Fox News knowingly peddles lies in the service of profit. College students chase away speakers, and college administrators dismiss instructors for dissenting from progressive orthodoxy. Benign words are branded hurtful; benign gestures are deemed hostile. And there’s a potentially devastating erosion of the civility, common ground, and compromise necessary for our democracy to survive.How did we get here? What does it say about us, and where does it leave us? The Age of Grievance examines these critical questions and charts a path forward.</td>\n",
       "    </tr>\n",
       "    <tr>\n",
       "      <th>431</th>\n",
       "      <td>A NEW YORK TIMES, USA TODAY BESTSELLER! The New York Times bestselling author, governor of South Dakota, and former congresswoman tells eye-opening stories of DC dysfunction, shares lessons from leading her state through unprecedented challenge, and explains how we seize this moment to move America forward. Any elected official can talk about how broken our government is. But their solutions always seem to involve more money, new programs—and reelection to another term. Few offer an unfiltered glimpse into how government actually works, empowering citizens with the knowledge to be part of the solution.   Governor Kristi Noem never planned on being in politics. But her concern for our nation compelled her, on a local, national, and global level. Because she took a different path into public service, as a concerned mom and rancher, her insights help every citizen understand how positive change really happens, despite the dysfunction in Washington DC. Governor Noem explains how the country is not going back to the Republican party of the 2000s. And that’s a good thing. This book is packed with surprising stories and practical lessons from the front lines of the battle. And she names names.  ​ A lot has changed since 2016, and based on her accomplishments in Congress and as Governor, no one is better equipped than Kristi Noem to explain the tremendous opportunities this opens up for every American.</td>\n",
       "    </tr>\n",
       "    <tr>\n",
       "      <th>432</th>\n",
       "      <td>Republicans will do anything to avoid raising taxes, and their latest bill to encourage voluntary contributions is nothing more than a distraction, an economist writes.</td>\n",
       "    </tr>\n",
       "  </tbody>\n",
       "</table>\n",
       "</div>"
      ],
      "text/plain": [
       "                                                                                                                                                                                                                                                                                                                                                                                                                                                                                                                                                                                                                                                                                                                                                                                                                                                                                                                                                                                                                                                                                                                                                                                                                                                                                                                                                                                                                                                                                                                                                                                                                                                                                                                                                                                                                                            abstract\n",
       "430  NEW YORK TIMES BESTSELLER • From bestselling author and longtime New York Times columnist Frank Bruni comes a lucid, powerful examination of the ways in which grievance has come to define our current culture and politics, on both the right and left.The twists and turns of American politics are unpredictable, but the tone is a troubling given. It’s one of grievance. More and more Americans are convinced that they’re losing because somebody else is winning. More and more tally their slights, measure their misfortune, and assign particular people responsibility for it. The blame game has become the country’s most popular sport and victimhood its most fashionable garb.Grievance needn’t be bad. It has done enormous good. The United States is a nation born of grievance, and across the nearly two hundred and fifty years of our existence as a country, grievance has been the engine of morally urgent change. But what happens when all sorts of grievances—the greater ones, the lesser ones, the authentic, the invented—are jumbled together? When people take their grievances to lengths that they didn’t before? A violent mob storms the US Capitol, rejecting the results of a presidential election. Conspiracy theories flourish. Fox News knowingly peddles lies in the service of profit. College students chase away speakers, and college administrators dismiss instructors for dissenting from progressive orthodoxy. Benign words are branded hurtful; benign gestures are deemed hostile. And there’s a potentially devastating erosion of the civility, common ground, and compromise necessary for our democracy to survive.How did we get here? What does it say about us, and where does it leave us? The Age of Grievance examines these critical questions and charts a path forward.\n",
       "431                                                                                                                                                                                                                                                                                                                                                                        A NEW YORK TIMES, USA TODAY BESTSELLER! The New York Times bestselling author, governor of South Dakota, and former congresswoman tells eye-opening stories of DC dysfunction, shares lessons from leading her state through unprecedented challenge, and explains how we seize this moment to move America forward. Any elected official can talk about how broken our government is. But their solutions always seem to involve more money, new programs—and reelection to another term. Few offer an unfiltered glimpse into how government actually works, empowering citizens with the knowledge to be part of the solution.   Governor Kristi Noem never planned on being in politics. But her concern for our nation compelled her, on a local, national, and global level. Because she took a different path into public service, as a concerned mom and rancher, her insights help every citizen understand how positive change really happens, despite the dysfunction in Washington DC. Governor Noem explains how the country is not going back to the Republican party of the 2000s. And that’s a good thing. This book is packed with surprising stories and practical lessons from the front lines of the battle. And she names names.  ​ A lot has changed since 2016, and based on her accomplishments in Congress and as Governor, no one is better equipped than Kristi Noem to explain the tremendous opportunities this opens up for every American.\n",
       "432                                                                                                                                                                                                                                                                                                                                                                                                                                                                                                                                                                                                                                                                                                                                                                                                                                                                                                                                                                                                                                                                                                                                                                                                                                                                                                                                                                                                                                                                                                                                                                                                                                                                         Republicans will do anything to avoid raising taxes, and their latest bill to encourage voluntary contributions is nothing more than a distraction, an economist writes."
      ]
     },
     "execution_count": 297,
     "metadata": {},
     "output_type": "execute_result"
    }
   ],
   "source": [
    "# Combine all books abstracts with the article's abstract\n",
    "corpus_article = article['abstract']\n",
    "corpus_books_article = pd.DataFrame(corpus_book['abstract'])\n",
    "corpus_books_article.loc[-1] = corpus_article # add article's abstract at the end of the df\n",
    "corpus_books_article = corpus_books_article.reset_index(drop=True)\n",
    "corpus_books_article.tail(3)"
   ]
  },
  {
   "cell_type": "markdown",
   "metadata": {},
   "source": [
    "# TF-IDF and similarity scores"
   ]
  },
  {
   "cell_type": "markdown",
   "metadata": {},
   "source": [
    "### Data preprocessing"
   ]
  },
  {
   "cell_type": "code",
   "execution_count": 247,
   "metadata": {},
   "outputs": [],
   "source": [
    "def text_cleaning(text): \n",
    "    \n",
    "    import re \n",
    "    # Remove #1 from, for exemple, #1 NATIONAL BESTSELLER\n",
    "    remove_hastag1 = re.sub(r'\\#\\d', '', text)\n",
    "    # Remove all numbers \n",
    "    remove_numbers = re.sub(r'\\d+', '', remove_hastag1)\n",
    "    # Regular expression to match fully uppercase words and words containing uppercase letters\n",
    "    remove_full_upper = re.sub(r'\\b[A-Z]+\\b', '', remove_numbers)\n",
    "    # lowercasing\n",
    "    lowercased_text = remove_full_upper.lower()\n",
    "    # remove everything that is not a word character (including letters, digits and underscore) or a blank space. \n",
    "    remove_punctuation = re.sub(r'[^\\w\\s]', '', lowercased_text)\n",
    "    # Remove any sequence of one or more white space by one white space. Removes white spaces at begining and end of word. It also removes '\\xa0', Unicode for non-breaking space. \n",
    "    remove_white_space = re.sub(r'\\s+', ' ', remove_punctuation).strip()\n",
    "\n",
    "    return (remove_white_space)\n",
    "\n",
    "def tokenization(text_clean):\n",
    "    # Tokenization = Breaking down each text into words put in an array based on blank spaces.\n",
    "    from nltk.tokenize import word_tokenize\n",
    "    tokenized_text = word_tokenize(text_clean)\n",
    "    return tokenized_text\n",
    "\n",
    "def remove_stop_words(abstract_token):\n",
    "# Stop Words/filtering = Removing irrelevant words\n",
    "    from nltk.corpus import stopwords\n",
    "    stopwords = set(stopwords.words('english'))\n",
    "    stopwords_removed = [word for word in abstract_token if word not in stopwords]\n",
    "    return stopwords_removed\n",
    "\n",
    "# Stemming = Transforming words into their base form\n",
    "def stemming(abstract_stop_words):\n",
    "    from nltk.stem import PorterStemmer\n",
    "    ps = PorterStemmer()\n",
    "    stemmed_text = [ps.stem(word) for word in abstract_stop_words]\n",
    "    return stemmed_text\n",
    "\n",
    "def preprocessing_abstract(abstract):\n",
    "    abstract_clean = text_cleaning(abstract)\n",
    "    abstract_token = tokenization(abstract_clean)\n",
    "    abstract_stop_words = remove_stop_words(abstract_token) \n",
    "    abstract_stemming = stemming(abstract_stop_words)\n",
    "    return abstract_stemming"
   ]
  },
  {
   "cell_type": "code",
   "execution_count": 253,
   "metadata": {},
   "outputs": [],
   "source": [
    "corpus_books_article['abstract_preprocessed'] = None\n",
    "col_index = corpus_books_article.columns.get_loc('abstract_preprocessed')\n",
    "\n",
    "# Loop through each abstract, preprocess it, transform list in string, update the DataFrame\n",
    "for index, abstract in enumerate(corpus_books_article['abstract']):\n",
    "    abstract_preprocessed = preprocessing_abstract(abstract)\n",
    "    string = ' '.join([str(item)for item in abstract_preprocessed])\n",
    "    corpus_books_article.iloc[index, col_index] = string"
   ]
  },
  {
   "cell_type": "markdown",
   "metadata": {},
   "source": [
    "### TF - IDF computation"
   ]
  },
  {
   "cell_type": "code",
   "execution_count": 254,
   "metadata": {},
   "outputs": [],
   "source": [
    "# Count TF-IDF\n",
    "from sklearn.feature_extraction.text import TfidfVectorizer\n",
    "vectorizer = TfidfVectorizer()\n",
    "tfidf_matrix = vectorizer.fit_transform(corpus_books_article['abstract_preprocessed']) # return a document-term matrix\n",
    "\n",
    "# Get words \n",
    "feature_names = vectorizer.get_feature_names_out()\n",
    "\n",
    "# Combine corpus with the weighted word matrix by creating 'id' index and merge\n",
    "corpus_books_article['id'] = range(0, len(corpus_books_article))\n",
    "df_tfidf_prev = pd.DataFrame(tfidf_matrix.toarray(), columns=feature_names)\n",
    "df_tfidf_prev['id'] = range(0, len(df_tfidf_prev))\n",
    "df_tfidf = pd.merge(corpus_books_article, df_tfidf_prev, on='id')"
   ]
  },
  {
   "cell_type": "code",
   "execution_count": 255,
   "metadata": {},
   "outputs": [],
   "source": [
    "def get_top_10_most_important_words(row_num):\n",
    "    \"\"\"\n",
    "    return :\n",
    "    - the 10 top words with the highest weight based of a book abstract based on the row number\n",
    "    - the abstract\n",
    "    \"\"\"\n",
    "    abstract = df_tfidf.iloc[row_num, df_tfidf.columns.get_loc(\"abstract\")]\n",
    "    row = df_tfidf.iloc[row_num, df_tfidf.columns.get_loc(\"id\"):]\n",
    "    row_sort = row[1:].sort_values(ascending = False)\n",
    "    top_10_words = row_sort[:10]\n",
    "    return print(top_10_words), pprint.pprint(abstract)"
   ]
  },
  {
   "cell_type": "markdown",
   "metadata": {},
   "source": [
    "### Cosine similarity computation"
   ]
  },
  {
   "cell_type": "code",
   "execution_count": 256,
   "metadata": {},
   "outputs": [],
   "source": [
    "# Computatuon of Cosine similarity. The higher the cosim value, the more similar the elements are. \n",
    "cosim = cosine_similarity(tfidf_matrix, tfidf_matrix)\n",
    "cosim = pd.DataFrame(cosim)\n",
    "cosim_article = cosim.tail(1)"
   ]
  },
  {
   "cell_type": "markdown",
   "metadata": {},
   "source": [
    "### Books to article selection"
   ]
  },
  {
   "cell_type": "code",
   "execution_count": 279,
   "metadata": {},
   "outputs": [
    {
     "data": {
      "text/html": [
       "<div>\n",
       "<style scoped>\n",
       "    .dataframe tbody tr th:only-of-type {\n",
       "        vertical-align: middle;\n",
       "    }\n",
       "\n",
       "    .dataframe tbody tr th {\n",
       "        vertical-align: top;\n",
       "    }\n",
       "\n",
       "    .dataframe thead th {\n",
       "        text-align: right;\n",
       "    }\n",
       "</style>\n",
       "<table border=\"1\" class=\"dataframe\">\n",
       "  <thead>\n",
       "    <tr style=\"text-align: right;\">\n",
       "      <th></th>\n",
       "      <th>index</th>\n",
       "      <th>cosine</th>\n",
       "    </tr>\n",
       "  </thead>\n",
       "  <tbody>\n",
       "    <tr>\n",
       "      <th>0</th>\n",
       "      <td>230</td>\n",
       "      <td>0.075591</td>\n",
       "    </tr>\n",
       "    <tr>\n",
       "      <th>1</th>\n",
       "      <td>101</td>\n",
       "      <td>0.062915</td>\n",
       "    </tr>\n",
       "    <tr>\n",
       "      <th>2</th>\n",
       "      <td>403</td>\n",
       "      <td>0.060432</td>\n",
       "    </tr>\n",
       "    <tr>\n",
       "      <th>3</th>\n",
       "      <td>335</td>\n",
       "      <td>0.058875</td>\n",
       "    </tr>\n",
       "  </tbody>\n",
       "</table>\n",
       "</div>"
      ],
      "text/plain": [
       "   index    cosine\n",
       "0    230  0.075591\n",
       "1    101  0.062915\n",
       "2    403  0.060432\n",
       "3    335  0.058875"
      ]
     },
     "execution_count": 279,
     "metadata": {},
     "output_type": "execute_result"
    }
   ],
   "source": [
    "# Select the last row of the cosine matrix\n",
    "cosim_artile_sort = cosim_article.iloc[-1,:].sort_values(ascending = False)\n",
    "\n",
    "# Select the 5 books that are the most similare to the article\n",
    "top_5_books = cosim_artile_sort[1:5]\n",
    "top_5_books = pd.DataFrame(top_5_books)\n",
    "top_5_books.columns = ['cosine']\n",
    "top_5_books = top_5_books.reset_index()\n",
    "top_5_books"
   ]
  },
  {
   "cell_type": "code",
   "execution_count": 299,
   "metadata": {},
   "outputs": [],
   "source": [
    "corpus_books = corpus_books.reset_index()\n"
   ]
  },
  {
   "cell_type": "code",
   "execution_count": 305,
   "metadata": {},
   "outputs": [
    {
     "data": {
      "text/html": [
       "<div>\n",
       "<style scoped>\n",
       "    .dataframe tbody tr th:only-of-type {\n",
       "        vertical-align: middle;\n",
       "    }\n",
       "\n",
       "    .dataframe tbody tr th {\n",
       "        vertical-align: top;\n",
       "    }\n",
       "\n",
       "    .dataframe thead th {\n",
       "        text-align: right;\n",
       "    }\n",
       "</style>\n",
       "<table border=\"1\" class=\"dataframe\">\n",
       "  <thead>\n",
       "    <tr style=\"text-align: right;\">\n",
       "      <th></th>\n",
       "      <th>index</th>\n",
       "      <th>title</th>\n",
       "      <th>author</th>\n",
       "      <th>publisher</th>\n",
       "      <th>book_uri</th>\n",
       "      <th>buy_links</th>\n",
       "      <th>genre</th>\n",
       "      <th>abstract</th>\n",
       "      <th>cosine</th>\n",
       "    </tr>\n",
       "  </thead>\n",
       "  <tbody>\n",
       "    <tr>\n",
       "      <th>0</th>\n",
       "      <td>101</td>\n",
       "      <td>AFTER AMERICA</td>\n",
       "      <td>Mark Steyn</td>\n",
       "      <td>Regnery</td>\n",
       "      <td>nyt://book/2defdfba-2ec7-5e8b-8b19-b1f9801875c2</td>\n",
       "      <td>https://goto.applebooks.apple/9781596982796?at=10lIEQ</td>\n",
       "      <td>Politics &amp; Current Events</td>\n",
       "      <td>Mark Steyn's New York Times bestseller, After America, is now in paperback! Featuring a new introduction and updated throughout, After America takes on Obama's disastrous plan for our nation, and reveals exactly what a post-American world will look like if we don't change our ways soon. Says Steyn: \"Nothing is certain but debt and taxes. And then more debt. If the government of the United States had to use GAAP (the 'Generally Accepted Accounting Practices' that your company and the publisher of this book have to use), Uncle Sam would be under an SEC investigation and his nephews and nieces would have taken away the keys and cut up his credit card.\" Slim as it is, however, Steyn argues there is still hope. \"Americans face a choice: you can rediscover the animating principles of the American idea—of limited government, a self-reliant citizenry, and the opportunities to exploit your talents to the fullest—or you can join most of the rest of the western world in terminal decline. This is a battle for the American idea, and it's an epic one, but you can do anything you want to do. So do it.\" Bitingly funny and wickedly clever, After America is Mark Steyn at his best.</td>\n",
       "      <td>0.062915</td>\n",
       "    </tr>\n",
       "    <tr>\n",
       "      <th>1</th>\n",
       "      <td>230</td>\n",
       "      <td>THE VANISHING AMERICAN ADULT</td>\n",
       "      <td>Ben Sasse</td>\n",
       "      <td>St. Martin's</td>\n",
       "      <td>nyt://book/ae055aca-f320-5920-aaf4-4cfdde47b516</td>\n",
       "      <td>https://goto.applebooks.apple/9781250114402?at=10lIEQ</td>\n",
       "      <td>Politics &amp; Current Events</td>\n",
       "      <td>THE INSTANT NEW YORK TIMES BESTSELLERIn an era of safe spaces, trigger warnings, and an unprecedented election, the country's youth are in crisis. Senator Ben Sasse warns the nation about the existential threat to America's future.Raised by well-meaning but overprotective parents and coddled by well-meaning but misbegotten government programs, America's youth are ill-equipped to survive in our highly-competitive global economy. Many of the coming-of-age rituals that have defined the American experience since the Founding: learning the value of working with your hands, leaving home to start a family, becoming economically self-reliant—are being delayed or skipped altogether. The statistics are daunting: 30% of college students drop out after the first year, and only 4 in 10 graduate. One in three 18-to-34 year-olds live with their parents. From these disparate phenomena: Nebraska Senator Ben Sasse who as president of a Midwestern college observed the trials of this generation up close, sees an existential threat to the American way of life.In The Vanishing American Adult, Sasse diagnoses the causes of a generation that can't grow up and offers a path for raising children to become active and engaged citizens. He identifies core formative experiences that all young people should pursue: hard work to appreciate the benefits of labor, travel to understand deprivation and want, the power of reading, the importance of nurturing your body—and explains how parents can encourage them.Our democracy depends on responsible, contributing adults to function properly—without them America falls prey to populist demagogues. A call to arms, The Vanishing American Adult will ignite a much-needed debate about the link between the way we're raising our children and the future of our country.</td>\n",
       "      <td>0.075591</td>\n",
       "    </tr>\n",
       "    <tr>\n",
       "      <th>2</th>\n",
       "      <td>335</td>\n",
       "      <td>IT WAS ALL A LIE</td>\n",
       "      <td>Stuart Stevens</td>\n",
       "      <td>Knopf</td>\n",
       "      <td>nyt://book/7fd446ce-b254-5f3d-ad64-efc54d1d0a05</td>\n",
       "      <td>https://goto.applebooks.apple/9780525658450?at=10lIEQ</td>\n",
       "      <td>Politics &amp; Current Events</td>\n",
       "      <td>AN INSTANT NEW YORK TIMES BESTSELLER\"In his bare-knuckles account, Stevens confesses to the reader that the entire apparatus of his Republican Party is built on a pack of lies... This reckoning inspired Stevens to publish this blistering, tell-all history... Although this book will be a hard read for any committed conservatives, they would do well to ponder it.\"--Julian E. Zelizer, The New York TimesFrom the most successful Republican political operative of his generation, a searing, unflinching, and deeply personal exposé of how his party became what it is todayStuart Stevens spent decades electing Republicans at every level, from presidents to senators to local officials. He knows the GOP as intimately as anyone in America, and in this new book he offers a devastating portrait of a party that has lost its moral and political compass.  This is not a book about how Donald J. Trump hijacked the Republican Party and changed it into something else. Stevens shows how Trump is in fact the natural outcome of five decades of hypocrisy and self-delusion, dating all the way back to the civil rights legislation of the early 1960s. Stevens shows how racism has always lurked in the modern GOP's DNA, from Goldwater's opposition to desegregation to Ronald Reagan's welfare queens and states' rights rhetoric. He gives an insider's account of the rank hypocrisy of the party's claims to embody \"family values,\" and shows how the party's vaunted commitment to fiscal responsibility has been a charade since the 1980s. When a party stands for nothing, he argues, it is only natural that it will be taken over by the loudest and angriest voices in the room.It Was All a Lie is not just an indictment of the Republican Party, but a candid and often lacerating mea culpa. Stevens is not asking for pity or forgiveness; he is simply telling us what he has seen firsthand. He helped to create the modern party that kneels before a morally bankrupt con man and now he wants nothing more than to see what it has become burned to the ground.</td>\n",
       "      <td>0.058875</td>\n",
       "    </tr>\n",
       "    <tr>\n",
       "      <th>3</th>\n",
       "      <td>403</td>\n",
       "      <td>THE BILL OF OBLIGATIONS</td>\n",
       "      <td>Richard Haass</td>\n",
       "      <td>Penguin Press</td>\n",
       "      <td>nyt://book/907da459-176e-5d35-b85e-aba80b3924ee</td>\n",
       "      <td>https://goto.applebooks.apple/9780525560654?at=10lIEQ</td>\n",
       "      <td>Politics &amp; Current Events</td>\n",
       "      <td>Watch the PBS companion documentary “A Citizen’s Guide to Preserving Democracy”“An indispensable guide to good citizenship in an era of division and rancor.”   —Anne ApplebaumThere is no question that the United States faces dangerous threats from  without; the greatest peril to the country, however, comes from within. In  The Bill of Obligations, bestselling author Richard Haass argues that, to solve  our climate of division and safeguard our democracy, the very idea of citizenship  must be revised and expanded. The Bill of Rights is at the center of  our Constitution, yet the most intractable conflicts often emerge from cases  that, as former Supreme Court Justice Stephen Breyer pointed out, “are not  about right versus wrong. They are about right versus right.”There is a way forward: to place obligations on the same footing as  rights. The ten obligations that Haass introduces here reenvision what it  means to be an American citizen, to commit to our fellow citizens and counter  the growing apathy, anger, and violence that threaten us all.Through an expert blend of civics, history, and political analysis, this  book illuminates how Americans across the political spectrum can rediscover  how to contribute to and reshape this country’s future.</td>\n",
       "      <td>0.060432</td>\n",
       "    </tr>\n",
       "  </tbody>\n",
       "</table>\n",
       "</div>"
      ],
      "text/plain": [
       "   index                         title          author      publisher  \\\n",
       "0    101                 AFTER AMERICA      Mark Steyn        Regnery   \n",
       "1    230  THE VANISHING AMERICAN ADULT       Ben Sasse   St. Martin's   \n",
       "2    335              IT WAS ALL A LIE  Stuart Stevens          Knopf   \n",
       "3    403       THE BILL OF OBLIGATIONS   Richard Haass  Penguin Press   \n",
       "\n",
       "                                          book_uri  \\\n",
       "0  nyt://book/2defdfba-2ec7-5e8b-8b19-b1f9801875c2   \n",
       "1  nyt://book/ae055aca-f320-5920-aaf4-4cfdde47b516   \n",
       "2  nyt://book/7fd446ce-b254-5f3d-ad64-efc54d1d0a05   \n",
       "3  nyt://book/907da459-176e-5d35-b85e-aba80b3924ee   \n",
       "\n",
       "                                               buy_links  \\\n",
       "0  https://goto.applebooks.apple/9781596982796?at=10lIEQ   \n",
       "1  https://goto.applebooks.apple/9781250114402?at=10lIEQ   \n",
       "2  https://goto.applebooks.apple/9780525658450?at=10lIEQ   \n",
       "3  https://goto.applebooks.apple/9780525560654?at=10lIEQ   \n",
       "\n",
       "                       genre  \\\n",
       "0  Politics & Current Events   \n",
       "1  Politics & Current Events   \n",
       "2  Politics & Current Events   \n",
       "3  Politics & Current Events   \n",
       "\n",
       "                                                                                                                                                                                                                                                                                                                                                                                                                                                                                                                                                                                                                                                                                                                                                                                                                                                                                                                                                                                                                                                                                                                                                                                                                                                                                                                                                                                                                                                                                                                                                                                                                                                                                                                                                                                                                                                                                                                                                                                                                                                                                                               abstract  \\\n",
       "0                                                                                                                                                                                                                                                                                                                                                                                                                                                                                                                                                                                                                                                                                                                                                                                                                                                                                         Mark Steyn's New York Times bestseller, After America, is now in paperback! Featuring a new introduction and updated throughout, After America takes on Obama's disastrous plan for our nation, and reveals exactly what a post-American world will look like if we don't change our ways soon. Says Steyn: \"Nothing is certain but debt and taxes. And then more debt. If the government of the United States had to use GAAP (the 'Generally Accepted Accounting Practices' that your company and the publisher of this book have to use), Uncle Sam would be under an SEC investigation and his nephews and nieces would have taken away the keys and cut up his credit card.\" Slim as it is, however, Steyn argues there is still hope. \"Americans face a choice: you can rediscover the animating principles of the American idea—of limited government, a self-reliant citizenry, and the opportunities to exploit your talents to the fullest—or you can join most of the rest of the western world in terminal decline. This is a battle for the American idea, and it's an epic one, but you can do anything you want to do. So do it.\" Bitingly funny and wickedly clever, After America is Mark Steyn at his best.   \n",
       "1                                                                                                                                                                                                                                             THE INSTANT NEW YORK TIMES BESTSELLERIn an era of safe spaces, trigger warnings, and an unprecedented election, the country's youth are in crisis. Senator Ben Sasse warns the nation about the existential threat to America's future.Raised by well-meaning but overprotective parents and coddled by well-meaning but misbegotten government programs, America's youth are ill-equipped to survive in our highly-competitive global economy. Many of the coming-of-age rituals that have defined the American experience since the Founding: learning the value of working with your hands, leaving home to start a family, becoming economically self-reliant—are being delayed or skipped altogether. The statistics are daunting: 30% of college students drop out after the first year, and only 4 in 10 graduate. One in three 18-to-34 year-olds live with their parents. From these disparate phenomena: Nebraska Senator Ben Sasse who as president of a Midwestern college observed the trials of this generation up close, sees an existential threat to the American way of life.In The Vanishing American Adult, Sasse diagnoses the causes of a generation that can't grow up and offers a path for raising children to become active and engaged citizens. He identifies core formative experiences that all young people should pursue: hard work to appreciate the benefits of labor, travel to understand deprivation and want, the power of reading, the importance of nurturing your body—and explains how parents can encourage them.Our democracy depends on responsible, contributing adults to function properly—without them America falls prey to populist demagogues. A call to arms, The Vanishing American Adult will ignite a much-needed debate about the link between the way we're raising our children and the future of our country.   \n",
       "2  AN INSTANT NEW YORK TIMES BESTSELLER\"In his bare-knuckles account, Stevens confesses to the reader that the entire apparatus of his Republican Party is built on a pack of lies... This reckoning inspired Stevens to publish this blistering, tell-all history... Although this book will be a hard read for any committed conservatives, they would do well to ponder it.\"--Julian E. Zelizer, The New York TimesFrom the most successful Republican political operative of his generation, a searing, unflinching, and deeply personal exposé of how his party became what it is todayStuart Stevens spent decades electing Republicans at every level, from presidents to senators to local officials. He knows the GOP as intimately as anyone in America, and in this new book he offers a devastating portrait of a party that has lost its moral and political compass.  This is not a book about how Donald J. Trump hijacked the Republican Party and changed it into something else. Stevens shows how Trump is in fact the natural outcome of five decades of hypocrisy and self-delusion, dating all the way back to the civil rights legislation of the early 1960s. Stevens shows how racism has always lurked in the modern GOP's DNA, from Goldwater's opposition to desegregation to Ronald Reagan's welfare queens and states' rights rhetoric. He gives an insider's account of the rank hypocrisy of the party's claims to embody \"family values,\" and shows how the party's vaunted commitment to fiscal responsibility has been a charade since the 1980s. When a party stands for nothing, he argues, it is only natural that it will be taken over by the loudest and angriest voices in the room.It Was All a Lie is not just an indictment of the Republican Party, but a candid and often lacerating mea culpa. Stevens is not asking for pity or forgiveness; he is simply telling us what he has seen firsthand. He helped to create the modern party that kneels before a morally bankrupt con man and now he wants nothing more than to see what it has become burned to the ground.   \n",
       "3                                                                                                                                                                                                                                                                                                                                                                                                                                                                                                                                                                                                                                                                                                                                                                                                      Watch the PBS companion documentary “A Citizen’s Guide to Preserving Democracy”“An indispensable guide to good citizenship in an era of division and rancor.”   —Anne ApplebaumThere is no question that the United States faces dangerous threats from  without; the greatest peril to the country, however, comes from within. In  The Bill of Obligations, bestselling author Richard Haass argues that, to solve  our climate of division and safeguard our democracy, the very idea of citizenship  must be revised and expanded. The Bill of Rights is at the center of  our Constitution, yet the most intractable conflicts often emerge from cases  that, as former Supreme Court Justice Stephen Breyer pointed out, “are not  about right versus wrong. They are about right versus right.”There is a way forward: to place obligations on the same footing as  rights. The ten obligations that Haass introduces here reenvision what it  means to be an American citizen, to commit to our fellow citizens and counter  the growing apathy, anger, and violence that threaten us all.Through an expert blend of civics, history, and political analysis, this  book illuminates how Americans across the political spectrum can rediscover  how to contribute to and reshape this country’s future.   \n",
       "\n",
       "     cosine  \n",
       "0  0.062915  \n",
       "1  0.075591  \n",
       "2  0.058875  \n",
       "3  0.060432  "
      ]
     },
     "execution_count": 305,
     "metadata": {},
     "output_type": "execute_result"
    }
   ],
   "source": [
    "top_5_books_info = pd.merge(corpus_books, top_5_books, how='inner', on='index')\n",
    "top_5_books_info.head(5)"
   ]
  }
 ],
 "metadata": {
  "kernelspec": {
   "display_name": "Python 3",
   "language": "python",
   "name": "python3"
  },
  "language_info": {
   "codemirror_mode": {
    "name": "ipython",
    "version": 3
   },
   "file_extension": ".py",
   "mimetype": "text/x-python",
   "name": "python",
   "nbconvert_exporter": "python",
   "pygments_lexer": "ipython3",
   "version": "3.11.8"
  }
 },
 "nbformat": 4,
 "nbformat_minor": 2
}
